{
 "cells": [
  {
   "cell_type": "markdown",
   "metadata": {},
   "source": [
    "# Introducción a Scala"
   ]
  },
  {
   "cell_type": "markdown",
   "metadata": {},
   "source": [
    "## Ventajas:\n",
    "- Escalable\n",
    "- Estaticamente tipado\n",
    "- Paradigma mixto\n",
    "- Eficiente\n",
    "- Sistema de tipos sofisticado\n",
    "- Sintaxis elegante"
   ]
  },
  {
   "cell_type": "markdown",
   "metadata": {},
   "source": [
    "## Tipos y definición de variables\n",
    "\n",
    "En Scala podemos declarar variables mutables (pueden cambiar su estado) o inmutables (no pueden cambiar su estado). Esto lo hacemos mediante las palabras reservadas **var** y **val**."
   ]
  },
  {
   "cell_type": "code",
   "execution_count": 17,
   "metadata": {},
   "outputs": [
    {
     "data": {
      "text/plain": [
       "\u001b[36mnum\u001b[39m: \u001b[32mInt\u001b[39m = \u001b[32m3\u001b[39m\n",
       "\u001b[36motronum\u001b[39m: \u001b[32mInt\u001b[39m = \u001b[32m2\u001b[39m\n",
       "\u001b[36mname\u001b[39m: \u001b[32mString\u001b[39m = \u001b[32m\"Scala\"\u001b[39m\n",
       "\u001b[36mothername\u001b[39m: \u001b[32mString\u001b[39m = \u001b[32m\"Sc\"\u001b[39m\n",
       "\u001b[36mletra\u001b[39m: \u001b[32mChar\u001b[39m = \u001b[32m'a'\u001b[39m\n",
       "\u001b[36mbool\u001b[39m: \u001b[32mBoolean\u001b[39m = \u001b[32mtrue\u001b[39m\n",
       "\u001b[36mreal\u001b[39m: \u001b[32mDouble\u001b[39m = \u001b[32m3.5\u001b[39m\n",
       "\u001b[36mbig\u001b[39m: \u001b[32mLong\u001b[39m = \u001b[32m4574958479L\u001b[39m\n",
       "\u001b[36ma\u001b[39m: \u001b[32mArray\u001b[39m[\u001b[32mAny\u001b[39m] = \u001b[33mArray\u001b[39m(1, 2, 3, 4.5, a)\n",
       "\u001b[36ml\u001b[39m: \u001b[32mList\u001b[39m[\u001b[32mAny\u001b[39m] = \u001b[33mList\u001b[39m(1, 2, 3, s)"
      ]
     },
     "execution_count": 17,
     "metadata": {},
     "output_type": "execute_result"
    }
   ],
   "source": [
    "//Ejemplos de tipos básicos \n",
    "\n",
    "//Creación de números enteros\n",
    "var num=3\n",
    "val otronum:Int=2\n",
    "\n",
    "//Creación de Strings\n",
    "val name=\"Scala\"\n",
    "var othername:String=\"Sc\"\n",
    "//Creación de Char\n",
    "var letra='a'\n",
    "\n",
    "//Creación de Boolean\n",
    "val bool=true\n",
    "\n",
    "//Creación de Double\n",
    "val real=3.5\n",
    "\n",
    "//Creación de Long\n",
    "var big=4574958479L\n",
    "\n",
    "val a = Array(1,2,3,4.5,\"a\")\n",
    "val l = List(1,2,3,\"s\")\n"
   ]
  },
  {
   "cell_type": "markdown",
   "metadata": {},
   "source": [
    "## Colecciones"
   ]
  },
  {
   "cell_type": "markdown",
   "metadata": {},
   "source": [
    "## Clases"
   ]
  },
  {
   "cell_type": "markdown",
   "metadata": {},
   "source": [
    "## Funciones"
   ]
  },
  {
   "cell_type": "markdown",
   "metadata": {},
   "source": [
    "## Pattern matching"
   ]
  },
  {
   "cell_type": "markdown",
   "metadata": {},
   "source": [
    "## Traits"
   ]
  },
  {
   "cell_type": "markdown",
   "metadata": {},
   "source": [
    "## Funciones de alto orden"
   ]
  },
  {
   "cell_type": "markdown",
   "metadata": {},
   "source": [
    "## Programación funcional"
   ]
  },
  {
   "cell_type": "code",
   "execution_count": null,
   "metadata": {},
   "outputs": [],
   "source": []
  },
  {
   "cell_type": "code",
   "execution_count": null,
   "metadata": {},
   "outputs": [],
   "source": []
  }
 ],
 "metadata": {
  "kernelspec": {
   "display_name": "Scala",
   "language": "scala",
   "name": "scala"
  },
  "language_info": {
   "codemirror_mode": "text/x-scala",
   "file_extension": ".scala",
   "mimetype": "text/x-scala",
   "name": "scala211",
   "nbconvert_exporter": "script",
   "pygments_lexer": "scala",
   "version": "2.11.11"
  }
 },
 "nbformat": 4,
 "nbformat_minor": 2
}

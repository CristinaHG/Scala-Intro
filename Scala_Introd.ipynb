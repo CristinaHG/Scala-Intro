{
 "cells": [
  {
   "cell_type": "markdown",
   "metadata": {},
   "source": [
    "# Introducción a Scala"
   ]
  },
  {
   "cell_type": "markdown",
   "metadata": {},
   "source": [
    "## Ventajas:\n",
    "- Escalable\n",
    "- Estaticamente tipado\n",
    "- Paradigma mixto\n",
    "- Eficiente\n",
    "- Sistema de tipos sofisticado\n",
    "- Sintaxis elegante"
   ]
  },
  {
   "cell_type": "markdown",
   "metadata": {},
   "source": [
    "## Tipos y definición de variables\n",
    "\n",
    "En Scala podemos declarar variables mutables (pueden cambiar su estado) o inmutables (no pueden cambiar su estado). Esto lo hacemos mediante las palabras reservadas **var** y **val**."
   ]
  },
  {
   "cell_type": "code",
   "execution_count": 6,
   "metadata": {},
   "outputs": [
    {
     "data": {
      "text/plain": [
       "\u001b[36mnum\u001b[39m: \u001b[32mInt\u001b[39m = \u001b[32m3\u001b[39m\n",
       "\u001b[36motronum\u001b[39m: \u001b[32mInt\u001b[39m = \u001b[32m2\u001b[39m\n",
       "\u001b[36mname\u001b[39m: \u001b[32mString\u001b[39m = \u001b[32m\"Scala\"\u001b[39m\n",
       "\u001b[36mothername\u001b[39m: \u001b[32mString\u001b[39m = \u001b[32m\"Sc\"\u001b[39m\n",
       "\u001b[36mletra\u001b[39m: \u001b[32mChar\u001b[39m = \u001b[32m'a'\u001b[39m\n",
       "\u001b[36motraletra\u001b[39m: \u001b[32mChar\u001b[39m = \u001b[32m'c'\u001b[39m\n",
       "\u001b[36mbool\u001b[39m: \u001b[32mBoolean\u001b[39m = \u001b[32mtrue\u001b[39m\n",
       "\u001b[36mreal\u001b[39m: \u001b[32mDouble\u001b[39m = \u001b[32m3.5\u001b[39m\n",
       "\u001b[36mbig\u001b[39m: \u001b[32mLong\u001b[39m = \u001b[32m4574958479L\u001b[39m"
      ]
     },
     "execution_count": 6,
     "metadata": {},
     "output_type": "execute_result"
    }
   ],
   "source": [
    "//Ejemplos de creación de variable con tipos básicos \n",
    "\n",
    "//Creación de números enteros\n",
    "var num=3\n",
    "val otronum:Int=2\n",
    "//Creación de Strings\n",
    "val name=\"Scala\"\n",
    "var othername:String=\"Sc\"\n",
    "//Creación de Char\n",
    "var letra='a'\n",
    "var otraletra:Char='c'\n",
    "\n",
    "//Creación de Boolean\n",
    "val bool=true\n",
    "\n",
    "//Creación de Double\n",
    "val real=3.5\n",
    "\n",
    "//Creación de Long\n",
    "var big=4574958479L\n"
   ]
  },
  {
   "cell_type": "markdown",
   "metadata": {},
   "source": [
    "### Ejercicio 1\n",
    "- **1.1 ) Intenta cambiar el valor de las variables \"num\" y \"otronum\" a cualquier otro número. ¿Qué ocurre? ¿A que crees que se debe el error sobre \"otronum\"?**\n",
    "- **1.2) Las variables \"letra\" y \"otraletra\" son ambas mutables. Sin embargo, para \"letra\" no estamos especificando el tipo, mientras que para \"otraletra\" sí. ¿Crees que ésto nos permitiría hacer algo como 'letra=\"Hola\"' , es decir, guardar otro tipo de dato en una variable declarada sin tipo?**"
   ]
  },
  {
   "cell_type": "markdown",
   "metadata": {},
   "source": [
    "## Colecciones\n",
    "Scala ofrece un amplio tipo de colecciones que incluye listas, arrays, conjuntos, tuplas y mapas, así como una versión mutable e inmutable para cada uno de ellos."
   ]
  },
  {
   "cell_type": "markdown",
   "metadata": {},
   "source": [
    "### Listas \n",
    "\n",
    "Pueden ser de tipo específico o de cualquier tipo (Any). Existen múltiples formas de crear una lista e incluyen un operador de concatenación de listas además de muchos métodos definidos para la clase lista que permiten filtrar, buscar, contar,eliminar, ordenar u obtener elementos fácilmente."
   ]
  },
  {
   "cell_type": "markdown",
   "metadata": {},
   "source": [
    "#### Creación de listas "
   ]
  },
  {
   "cell_type": "code",
   "execution_count": 32,
   "metadata": {},
   "outputs": [
    {
     "data": {
      "text/plain": [
       "\u001b[36mmylist\u001b[39m: \u001b[32mList\u001b[39m[\u001b[32mNothing\u001b[39m] = \u001b[33mList\u001b[39m()\n",
       "\u001b[36mmylist1\u001b[39m: \u001b[32mList\u001b[39m[\u001b[32mInt\u001b[39m] = \u001b[33mList\u001b[39m()\n",
       "\u001b[36mmylist2\u001b[39m: \u001b[32mList\u001b[39m[\u001b[32mInt\u001b[39m] = \u001b[33mList\u001b[39m(\u001b[32m1\u001b[39m, \u001b[32m2\u001b[39m, \u001b[32m3\u001b[39m, \u001b[32m4\u001b[39m, \u001b[32m5\u001b[39m, \u001b[32m6\u001b[39m)\n",
       "\u001b[36mmylist3\u001b[39m: \u001b[32mList\u001b[39m[\u001b[32mInt\u001b[39m] = \u001b[33mList\u001b[39m(\u001b[32m1\u001b[39m, \u001b[32m2\u001b[39m, \u001b[32m3\u001b[39m, \u001b[32m4\u001b[39m, \u001b[32m5\u001b[39m, \u001b[32m6\u001b[39m)\n",
       "\u001b[36mlist4\u001b[39m: \u001b[32mList\u001b[39m[\u001b[32mInt\u001b[39m] = \u001b[33mList\u001b[39m(\u001b[32m9\u001b[39m, \u001b[32m10\u001b[39m, \u001b[32m11\u001b[39m, \u001b[32m12\u001b[39m, \u001b[32m13\u001b[39m)\n",
       "\u001b[36mlist5\u001b[39m: \u001b[32mList\u001b[39m[\u001b[32mNumber\u001b[39m] = \u001b[33mList\u001b[39m(5.6, 9, 3, 22.0, 1)\n",
       "\u001b[36mlist6\u001b[39m: \u001b[32mList\u001b[39m[\u001b[32mInt\u001b[39m] = \u001b[33mList\u001b[39m(\u001b[32m0\u001b[39m, \u001b[32m1\u001b[39m, \u001b[32m2\u001b[39m, \u001b[32m3\u001b[39m, \u001b[32m4\u001b[39m, \u001b[32m5\u001b[39m, \u001b[32m6\u001b[39m, \u001b[32m7\u001b[39m, \u001b[32m8\u001b[39m, \u001b[32m9\u001b[39m)\n",
       "\u001b[36mlist7\u001b[39m: \u001b[32mList\u001b[39m[(\u001b[32mString\u001b[39m, \u001b[32mInt\u001b[39m)] = \u001b[33mList\u001b[39m((\u001b[32m\"a\"\u001b[39m, \u001b[32m2\u001b[39m), (\u001b[32m\"a\"\u001b[39m, \u001b[32m2\u001b[39m), (\u001b[32m\"a\"\u001b[39m, \u001b[32m2\u001b[39m), (\u001b[32m\"a\"\u001b[39m, \u001b[32m2\u001b[39m), (\u001b[32m\"a\"\u001b[39m, \u001b[32m2\u001b[39m))\n",
       "\u001b[36mlist8\u001b[39m: \u001b[32mList\u001b[39m[\u001b[32mInt\u001b[39m] = \u001b[33mList\u001b[39m(\u001b[32m1\u001b[39m, \u001b[32m2\u001b[39m, \u001b[32m3\u001b[39m, \u001b[32m4\u001b[39m, \u001b[32m5\u001b[39m, \u001b[32m6\u001b[39m, \u001b[32m7\u001b[39m)"
      ]
     },
     "execution_count": 32,
     "metadata": {},
     "output_type": "execute_result"
    }
   ],
   "source": [
    "// Ejemplos de creación de listas\n",
    "\n",
    "// lista vacía\n",
    "var mylist=List() //tipo Nothing\n",
    "var mylist1:List[Int]=Nil //tipo Int\n",
    "// crear lista al estilo Lisp\n",
    "var mylist2=1::2::3::4::5::6::Nil\n",
    "// crear lista al estilo Java\n",
    "var mylist3=List(1,2,3,4,5,6)\n",
    "// especificando el tipo de la lista\n",
    "var list4=List[Int](9,10,11,12,13)\n",
    "// necesario si vamos a mezclar tipos en la lista\n",
    "var list5 = List[Number](5.6,9, 3, 22d, 0x1)\n",
    "//crear lista con rangos\n",
    "var list6=List.range(0,10,1)\n",
    "// listas con relleno\n",
    "var list7=List.fill(5)(\"a\",2)\n",
    "// con tabulate \n",
    "var list8=List.tabulate(7)(n=>(n-1)+2)"
   ]
  },
  {
   "cell_type": "markdown",
   "metadata": {},
   "source": [
    "#### Concatenación de listas"
   ]
  },
  {
   "cell_type": "code",
   "execution_count": 34,
   "metadata": {},
   "outputs": [
    {
     "data": {
      "text/plain": [
       "\u001b[36mlist9\u001b[39m: \u001b[32mList\u001b[39m[\u001b[32mInt\u001b[39m] = \u001b[33mList\u001b[39m(\u001b[32m0\u001b[39m, \u001b[32m1\u001b[39m, \u001b[32m2\u001b[39m, \u001b[32m3\u001b[39m, \u001b[32m4\u001b[39m, \u001b[32m5\u001b[39m, \u001b[32m6\u001b[39m, \u001b[32m7\u001b[39m, \u001b[32m8\u001b[39m, \u001b[32m9\u001b[39m)\n",
       "\u001b[36mlist10\u001b[39m: \u001b[32mList\u001b[39m[\u001b[32mInt\u001b[39m] = \u001b[33mList\u001b[39m(\u001b[32m10\u001b[39m, \u001b[32m11\u001b[39m, \u001b[32m12\u001b[39m, \u001b[32m13\u001b[39m, \u001b[32m14\u001b[39m)\n",
       "\u001b[36mlist0to15\u001b[39m: \u001b[32mList\u001b[39m[\u001b[32mInt\u001b[39m] = \u001b[33mList\u001b[39m(\u001b[32m0\u001b[39m, \u001b[32m1\u001b[39m, \u001b[32m2\u001b[39m, \u001b[32m3\u001b[39m, \u001b[32m4\u001b[39m, \u001b[32m5\u001b[39m, \u001b[32m6\u001b[39m, \u001b[32m7\u001b[39m, \u001b[32m8\u001b[39m, \u001b[32m9\u001b[39m, \u001b[32m10\u001b[39m, \u001b[32m11\u001b[39m, \u001b[32m12\u001b[39m, \u001b[32m13\u001b[39m, \u001b[32m14\u001b[39m)"
      ]
     },
     "execution_count": 34,
     "metadata": {},
     "output_type": "execute_result"
    }
   ],
   "source": [
    "//Concatenación de listas\n",
    "//\n",
    "val list9=List.range(0,10,1)\n",
    "val list10=List.range(10,15,1)\n",
    "val list0to15=list9:::list10"
   ]
  },
  {
   "cell_type": "code",
   "execution_count": null,
   "metadata": {},
   "outputs": [],
   "source": []
  },
  {
   "cell_type": "markdown",
   "metadata": {},
   "source": [
    "## Clases"
   ]
  },
  {
   "cell_type": "markdown",
   "metadata": {},
   "source": [
    "## Funciones"
   ]
  },
  {
   "cell_type": "markdown",
   "metadata": {},
   "source": [
    "## Pattern matching"
   ]
  },
  {
   "cell_type": "markdown",
   "metadata": {},
   "source": [
    "## Traits"
   ]
  },
  {
   "cell_type": "markdown",
   "metadata": {},
   "source": [
    "## Funciones de alto orden"
   ]
  },
  {
   "cell_type": "markdown",
   "metadata": {},
   "source": [
    "## Programación funcional"
   ]
  },
  {
   "cell_type": "code",
   "execution_count": null,
   "metadata": {},
   "outputs": [],
   "source": []
  },
  {
   "cell_type": "code",
   "execution_count": null,
   "metadata": {},
   "outputs": [],
   "source": []
  }
 ],
 "metadata": {
  "kernelspec": {
   "display_name": "Scala",
   "language": "scala",
   "name": "scala"
  },
  "language_info": {
   "codemirror_mode": "text/x-scala",
   "file_extension": ".scala",
   "mimetype": "text/x-scala",
   "name": "scala211",
   "nbconvert_exporter": "script",
   "pygments_lexer": "scala",
   "version": "2.11.11"
  }
 },
 "nbformat": 4,
 "nbformat_minor": 2
}

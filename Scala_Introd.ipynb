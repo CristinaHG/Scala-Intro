{
 "cells": [
  {
   "cell_type": "markdown",
   "metadata": {},
   "source": [
    "# Introducción a Scala\n",
    "\n",
    "Cristina Heredia @_musicalnote"
   ]
  },
  {
   "cell_type": "markdown",
   "metadata": {},
   "source": [
    "## Ventajas:\n",
    "- Escalable\n",
    "- Estaticamente tipado\n",
    "- Paradigma mixto\n",
    "- Eficiente\n",
    "- Sistema de tipos sofisticado\n",
    "- Sintaxis elegante"
   ]
  },
  {
   "cell_type": "markdown",
   "metadata": {},
   "source": [
    "## Tipos y definición de variables\n",
    "\n",
    "En Scala podemos declarar variables mutables (pueden cambiar su estado) o inmutables (no pueden cambiar su estado). Esto lo hacemos mediante las palabras reservadas **var** y **val**."
   ]
  },
  {
   "cell_type": "code",
   "execution_count": 1,
   "metadata": {},
   "outputs": [
    {
     "data": {
      "text/plain": [
       "\u001b[36mnum\u001b[39m: \u001b[32mInt\u001b[39m = \u001b[32m3\u001b[39m\n",
       "\u001b[36motronum\u001b[39m: \u001b[32mInt\u001b[39m = \u001b[32m2\u001b[39m\n",
       "\u001b[36mname\u001b[39m: \u001b[32mString\u001b[39m = \u001b[32m\"Scala\"\u001b[39m\n",
       "\u001b[36mothername\u001b[39m: \u001b[32mString\u001b[39m = \u001b[32m\"Sc\"\u001b[39m\n",
       "\u001b[36mletra\u001b[39m: \u001b[32mChar\u001b[39m = \u001b[32m'a'\u001b[39m\n",
       "\u001b[36motraletra\u001b[39m: \u001b[32mChar\u001b[39m = \u001b[32m'c'\u001b[39m\n",
       "\u001b[36mbool\u001b[39m: \u001b[32mBoolean\u001b[39m = \u001b[32mtrue\u001b[39m\n",
       "\u001b[36mreal\u001b[39m: \u001b[32mDouble\u001b[39m = \u001b[32m3.5\u001b[39m\n",
       "\u001b[36mbig\u001b[39m: \u001b[32mLong\u001b[39m = \u001b[32m4574958479L\u001b[39m"
      ]
     },
     "execution_count": 1,
     "metadata": {},
     "output_type": "execute_result"
    }
   ],
   "source": [
    "//Ejemplos de creación de variable con tipos básicos \n",
    "\n",
    "//Creación de números enteros\n",
    "var num=3\n",
    "val otronum:Int=2\n",
    "//Creación de Strings\n",
    "val name=\"Scala\"\n",
    "var othername:String=\"Sc\"\n",
    "//Creación de Char\n",
    "var letra='a'\n",
    "var otraletra:Char='c'\n",
    "\n",
    "//Creación de Boolean\n",
    "val bool=true\n",
    "\n",
    "//Creación de Double\n",
    "val real=3.5\n",
    "\n",
    "//Creación de Long\n",
    "var big=4574958479L\n"
   ]
  },
  {
   "cell_type": "markdown",
   "metadata": {},
   "source": [
    "### Ejercicio 1\n",
    "- **1.1 ) Intenta cambiar el valor de las variables \"num\" y \"otronum\" a cualquier otro número. ¿Qué ocurre? ¿A que crees que se debe el error sobre \"otronum\"?**\n",
    "- **1.2) Las variables \"letra\" y \"otraletra\" son ambas mutables. Sin embargo, para \"letra\" no estamos especificando el tipo, mientras que para \"otraletra\" sí. ¿Crees que ésto nos permitiría hacer algo como 'letra=\"Hola\"' , es decir, guardar otro tipo de dato en una variable declarada sin tipo?**"
   ]
  },
  {
   "cell_type": "markdown",
   "metadata": {},
   "source": [
    "## Colecciones\n",
    "Scala ofrece un amplio tipo de colecciones que incluye listas, arrays, conjuntos, tuplas y mapas, así como una versión mutable e inmutable para cada uno de ellos."
   ]
  },
  {
   "cell_type": "markdown",
   "metadata": {},
   "source": [
    "### Listas \n",
    "\n",
    "Pueden ser de tipo específico o de cualquier tipo (Any). Existen múltiples formas de crear una lista e incluyen un operador de concatenación de listas además de muchos métodos definidos para la clase lista que permiten filtrar, buscar, contar,eliminar, ordenar u obtener elementos fácilmente."
   ]
  },
  {
   "cell_type": "markdown",
   "metadata": {},
   "source": [
    "#### Creación de listas "
   ]
  },
  {
   "cell_type": "code",
   "execution_count": 2,
   "metadata": {},
   "outputs": [
    {
     "data": {
      "text/plain": [
       "\u001b[36mmylist\u001b[39m: \u001b[32mList\u001b[39m[\u001b[32mNothing\u001b[39m] = \u001b[33mList\u001b[39m()\n",
       "\u001b[36mmylist1\u001b[39m: \u001b[32mList\u001b[39m[\u001b[32mInt\u001b[39m] = \u001b[33mList\u001b[39m()\n",
       "\u001b[36mmylist2\u001b[39m: \u001b[32mList\u001b[39m[\u001b[32mInt\u001b[39m] = \u001b[33mList\u001b[39m(\u001b[32m1\u001b[39m, \u001b[32m2\u001b[39m, \u001b[32m3\u001b[39m, \u001b[32m4\u001b[39m, \u001b[32m5\u001b[39m, \u001b[32m6\u001b[39m)\n",
       "\u001b[36mmylist3\u001b[39m: \u001b[32mList\u001b[39m[\u001b[32mInt\u001b[39m] = \u001b[33mList\u001b[39m(\u001b[32m1\u001b[39m, \u001b[32m2\u001b[39m, \u001b[32m3\u001b[39m, \u001b[32m4\u001b[39m, \u001b[32m5\u001b[39m, \u001b[32m6\u001b[39m)\n",
       "\u001b[36mlist4\u001b[39m: \u001b[32mList\u001b[39m[\u001b[32mInt\u001b[39m] = \u001b[33mList\u001b[39m(\u001b[32m9\u001b[39m, \u001b[32m10\u001b[39m, \u001b[32m11\u001b[39m, \u001b[32m12\u001b[39m, \u001b[32m13\u001b[39m)\n",
       "\u001b[36mlist5\u001b[39m: \u001b[32mList\u001b[39m[\u001b[32mNumber\u001b[39m] = \u001b[33mList\u001b[39m(5.6, 9, 3, 22.0, 1)\n",
       "\u001b[36mlist6\u001b[39m: \u001b[32mList\u001b[39m[\u001b[32mInt\u001b[39m] = \u001b[33mList\u001b[39m(\u001b[32m0\u001b[39m, \u001b[32m1\u001b[39m, \u001b[32m2\u001b[39m, \u001b[32m3\u001b[39m, \u001b[32m4\u001b[39m, \u001b[32m5\u001b[39m, \u001b[32m6\u001b[39m, \u001b[32m7\u001b[39m, \u001b[32m8\u001b[39m, \u001b[32m9\u001b[39m)\n",
       "\u001b[36mlist7\u001b[39m: \u001b[32mList\u001b[39m[(\u001b[32mString\u001b[39m, \u001b[32mInt\u001b[39m)] = \u001b[33mList\u001b[39m((\u001b[32m\"a\"\u001b[39m, \u001b[32m2\u001b[39m), (\u001b[32m\"a\"\u001b[39m, \u001b[32m2\u001b[39m), (\u001b[32m\"a\"\u001b[39m, \u001b[32m2\u001b[39m), (\u001b[32m\"a\"\u001b[39m, \u001b[32m2\u001b[39m), (\u001b[32m\"a\"\u001b[39m, \u001b[32m2\u001b[39m))\n",
       "\u001b[36mlist8\u001b[39m: \u001b[32mList\u001b[39m[\u001b[32mInt\u001b[39m] = \u001b[33mList\u001b[39m(\u001b[32m1\u001b[39m, \u001b[32m2\u001b[39m, \u001b[32m3\u001b[39m, \u001b[32m4\u001b[39m, \u001b[32m5\u001b[39m, \u001b[32m6\u001b[39m, \u001b[32m7\u001b[39m)"
      ]
     },
     "execution_count": 2,
     "metadata": {},
     "output_type": "execute_result"
    }
   ],
   "source": [
    "// Ejemplos de creación de listas\n",
    "\n",
    "// lista vacía\n",
    "var mylist=List() //tipo Nothing\n",
    "var mylist1:List[Int]=Nil //tipo Int\n",
    "// crear lista al estilo Lisp\n",
    "var mylist2=1::2::3::4::5::6::Nil\n",
    "// crear lista al estilo Java\n",
    "var mylist3=List(1,2,3,4,5,6)\n",
    "// especificando el tipo de la lista\n",
    "var list4=List[Int](9,10,11,12,13)\n",
    "// necesario si vamos a mezclar tipos en la lista\n",
    "var list5 = List[Number](5.6,9, 3, 22d, 0x1)\n",
    "//crear lista con rangos\n",
    "var list6=List.range(0,10,1)\n",
    "// listas con relleno\n",
    "var list7=List.fill(5)(\"a\",2)\n",
    "// con tabulate \n",
    "var list8=List.tabulate(7)(n=>(n-1)+2)"
   ]
  },
  {
   "cell_type": "markdown",
   "metadata": {},
   "source": [
    "#### Concatenación de listas"
   ]
  },
  {
   "cell_type": "code",
   "execution_count": 3,
   "metadata": {},
   "outputs": [
    {
     "data": {
      "text/plain": [
       "\u001b[36mlist9\u001b[39m: \u001b[32mList\u001b[39m[\u001b[32mInt\u001b[39m] = \u001b[33mList\u001b[39m(\u001b[32m0\u001b[39m, \u001b[32m1\u001b[39m, \u001b[32m2\u001b[39m, \u001b[32m3\u001b[39m, \u001b[32m4\u001b[39m, \u001b[32m5\u001b[39m, \u001b[32m6\u001b[39m, \u001b[32m7\u001b[39m, \u001b[32m8\u001b[39m, \u001b[32m9\u001b[39m)\n",
       "\u001b[36mlist10\u001b[39m: \u001b[32mList\u001b[39m[\u001b[32mInt\u001b[39m] = \u001b[33mList\u001b[39m(\u001b[32m10\u001b[39m, \u001b[32m11\u001b[39m, \u001b[32m12\u001b[39m, \u001b[32m13\u001b[39m, \u001b[32m14\u001b[39m)\n",
       "\u001b[36mlist0to15\u001b[39m: \u001b[32mList\u001b[39m[\u001b[32mInt\u001b[39m] = \u001b[33mList\u001b[39m(\u001b[32m0\u001b[39m, \u001b[32m1\u001b[39m, \u001b[32m2\u001b[39m, \u001b[32m3\u001b[39m, \u001b[32m4\u001b[39m, \u001b[32m5\u001b[39m, \u001b[32m6\u001b[39m, \u001b[32m7\u001b[39m, \u001b[32m8\u001b[39m, \u001b[32m9\u001b[39m, \u001b[32m10\u001b[39m, \u001b[32m11\u001b[39m, \u001b[32m12\u001b[39m, \u001b[32m13\u001b[39m, \u001b[32m14\u001b[39m)"
      ]
     },
     "execution_count": 3,
     "metadata": {},
     "output_type": "execute_result"
    }
   ],
   "source": [
    "//Concatenación de listas\n",
    "//\n",
    "val list9=List.range(0,10,1)\n",
    "val list10=List.range(10,15,1)\n",
    "val list0to15=list9:::list10"
   ]
  },
  {
   "cell_type": "markdown",
   "metadata": {},
   "source": [
    "#### Métodos de las listas"
   ]
  },
  {
   "cell_type": "code",
   "execution_count": 4,
   "metadata": {},
   "outputs": [
    {
     "name": "stdout",
     "output_type": "stream",
     "text": [
      "0 1 4 9 16 25 36 49 64 81 100 121 144 169 196 "
     ]
    },
    {
     "data": {
      "text/plain": [
       "\u001b[36mres3_0\u001b[39m: \u001b[32mInt\u001b[39m = \u001b[32m0\u001b[39m\n",
       "\u001b[36mres3_1\u001b[39m: \u001b[32mList\u001b[39m[\u001b[32mInt\u001b[39m] = \u001b[33mList\u001b[39m(\u001b[32m1\u001b[39m, \u001b[32m2\u001b[39m, \u001b[32m3\u001b[39m, \u001b[32m4\u001b[39m, \u001b[32m5\u001b[39m, \u001b[32m6\u001b[39m, \u001b[32m7\u001b[39m, \u001b[32m8\u001b[39m, \u001b[32m9\u001b[39m, \u001b[32m10\u001b[39m, \u001b[32m11\u001b[39m, \u001b[32m12\u001b[39m, \u001b[32m13\u001b[39m, \u001b[32m14\u001b[39m)\n",
       "\u001b[36mres3_2\u001b[39m: \u001b[32mBoolean\u001b[39m = \u001b[32mfalse\u001b[39m\n",
       "\u001b[36mres3_3\u001b[39m: \u001b[32mInt\u001b[39m = \u001b[32m8\u001b[39m\n",
       "\u001b[36mres3_4\u001b[39m: \u001b[32mList\u001b[39m[\u001b[32mInt\u001b[39m] = \u001b[33mList\u001b[39m(\u001b[32m14\u001b[39m, \u001b[32m13\u001b[39m, \u001b[32m12\u001b[39m, \u001b[32m11\u001b[39m, \u001b[32m10\u001b[39m, \u001b[32m9\u001b[39m, \u001b[32m8\u001b[39m, \u001b[32m7\u001b[39m, \u001b[32m6\u001b[39m, \u001b[32m5\u001b[39m, \u001b[32m4\u001b[39m, \u001b[32m3\u001b[39m, \u001b[32m2\u001b[39m, \u001b[32m1\u001b[39m, \u001b[32m0\u001b[39m)\n",
       "\u001b[36mres3_5\u001b[39m: \u001b[32mList\u001b[39m[\u001b[32mInt\u001b[39m] = \u001b[33mList\u001b[39m(\u001b[32m6\u001b[39m, \u001b[32m7\u001b[39m, \u001b[32m8\u001b[39m, \u001b[32m9\u001b[39m, \u001b[32m10\u001b[39m, \u001b[32m11\u001b[39m, \u001b[32m12\u001b[39m, \u001b[32m13\u001b[39m, \u001b[32m14\u001b[39m)\n",
       "\u001b[36mres3_6\u001b[39m: \u001b[32mBoolean\u001b[39m = \u001b[32mtrue\u001b[39m\n",
       "\u001b[36mres3_7\u001b[39m: \u001b[32mList\u001b[39m[\u001b[32mInt\u001b[39m] = \u001b[33mList\u001b[39m(\u001b[32m5\u001b[39m, \u001b[32m6\u001b[39m, \u001b[32m7\u001b[39m, \u001b[32m8\u001b[39m, \u001b[32m9\u001b[39m, \u001b[32m10\u001b[39m, \u001b[32m11\u001b[39m, \u001b[32m12\u001b[39m, \u001b[32m13\u001b[39m, \u001b[32m14\u001b[39m)\n",
       "\u001b[36mres3_8\u001b[39m: \u001b[32mList\u001b[39m[\u001b[32mInt\u001b[39m] = \u001b[33mList\u001b[39m(\u001b[32m0\u001b[39m, \u001b[32m1\u001b[39m, \u001b[32m2\u001b[39m, \u001b[32m3\u001b[39m, \u001b[32m4\u001b[39m, \u001b[32m5\u001b[39m, \u001b[32m6\u001b[39m, \u001b[32m7\u001b[39m, \u001b[32m8\u001b[39m, \u001b[32m9\u001b[39m)"
      ]
     },
     "execution_count": 4,
     "metadata": {},
     "output_type": "execute_result"
    }
   ],
   "source": [
    "// obtener primero\n",
    "list0to15.head\n",
    "// obtener último\n",
    "list0to15.tail\n",
    "//comprobar si la lista está vacía \n",
    "list0to15.isEmpty\n",
    "// conteo\n",
    "list0to15.count(_%2==0)\n",
    "// ordenación (sort)\n",
    "list0to15.sortWith(_>_)\n",
    "// filtado\n",
    "list0to15.filter(_>5)\n",
    "// comprobar elemento\n",
    "list0to15.contains(0)\n",
    "// eleminar elementos (drop)\n",
    "list0to15.drop(5) //por el principio\n",
    "list0to15.dropRight(5) // por el final\n",
    "// para cada elemento aplicar una función\n",
    "list0to15.foreach(a=>print(a*a+ \" \"))\n"
   ]
  },
  {
   "cell_type": "markdown",
   "metadata": {},
   "source": [
    "Podemos encontrar muchos más métodos de las listas en [tutorialspoint.com](https://www.tutorialspoint.com/scala/scala_lists.htm)"
   ]
  },
  {
   "cell_type": "markdown",
   "metadata": {},
   "source": [
    "### Arrays \n",
    "\n",
    "Son colleciones de valores indexados mutables. Se corresponden con los arrays de Java, es decir, `Array[Int]` se representa como un `int[]` en Java.  Pueden ser genéricos (`Array[T]`) y son compatibles con las secuencias de Scala (Podemos pasar un `Array[T]` donde se pida un `Seq[T]`). Soportan un amplio abanico de métodos. "
   ]
  },
  {
   "cell_type": "markdown",
   "metadata": {},
   "source": [
    "#### Creación de Arrays"
   ]
  },
  {
   "cell_type": "code",
   "execution_count": 5,
   "metadata": {},
   "outputs": [
    {
     "data": {
      "text/plain": [
       "\u001b[36ma1\u001b[39m: \u001b[32mArray\u001b[39m[\u001b[32mInt\u001b[39m] = \u001b[33mArray\u001b[39m(\u001b[32m1\u001b[39m, \u001b[32m2\u001b[39m, \u001b[32m3\u001b[39m, \u001b[32m4\u001b[39m, \u001b[32m5\u001b[39m)\n",
       "\u001b[36ma2\u001b[39m: \u001b[32mArray\u001b[39m[\u001b[32mAny\u001b[39m] = \u001b[33mArray\u001b[39m(1, 2, a, false)\n",
       "\u001b[36mres4_2\u001b[39m: \u001b[32mArray\u001b[39m[\u001b[32mInt\u001b[39m] = \u001b[33mArray\u001b[39m(\u001b[32m1\u001b[39m, \u001b[32m2\u001b[39m, \u001b[32m3\u001b[39m, \u001b[32m4\u001b[39m, \u001b[32m5\u001b[39m, \u001b[32m3\u001b[39m)\n",
       "\u001b[36mres4_3\u001b[39m: \u001b[32mArray\u001b[39m[\u001b[32mInt\u001b[39m] = \u001b[33mArray\u001b[39m(\u001b[32m3\u001b[39m, \u001b[32m1\u001b[39m, \u001b[32m2\u001b[39m, \u001b[32m3\u001b[39m, \u001b[32m4\u001b[39m, \u001b[32m5\u001b[39m)"
      ]
     },
     "execution_count": 5,
     "metadata": {},
     "output_type": "execute_result"
    }
   ],
   "source": [
    "//creamos arrays\n",
    "val a1=Array[Int](1,2,3,4,5)\n",
    "val a2=Array(1,2,\"a\",false)\n",
    "//añadir elemento \n",
    "a1:+3 //al final\n",
    "3+:a1 //al principio\n"
   ]
  },
  {
   "cell_type": "markdown",
   "metadata": {},
   "source": [
    "#### Concatenación"
   ]
  },
  {
   "cell_type": "code",
   "execution_count": 6,
   "metadata": {},
   "outputs": [
    {
     "data": {
      "text/plain": [
       "\u001b[36mres5\u001b[39m: \u001b[32mArray\u001b[39m[\u001b[32mAny\u001b[39m] = \u001b[33mArray\u001b[39m(1, 2, 3, 4, 5, 1, 2, a, false)"
      ]
     },
     "execution_count": 6,
     "metadata": {},
     "output_type": "execute_result"
    }
   ],
   "source": [
    "// concatenación\n",
    "a1++a2"
   ]
  },
  {
   "cell_type": "markdown",
   "metadata": {},
   "source": [
    "#### Métodos de los Arrays"
   ]
  },
  {
   "cell_type": "code",
   "execution_count": 7,
   "metadata": {},
   "outputs": [
    {
     "data": {
      "text/plain": [
       "\u001b[36mres6_0\u001b[39m: \u001b[32mInt\u001b[39m = \u001b[32m1\u001b[39m\n",
       "\u001b[36mres6_1\u001b[39m: \u001b[32mInt\u001b[39m = \u001b[32m1\u001b[39m\n",
       "\u001b[36mres6_3\u001b[39m: \u001b[32mArray\u001b[39m[\u001b[32mInt\u001b[39m] = \u001b[33mArray\u001b[39m(\u001b[32m0\u001b[39m, \u001b[32m2\u001b[39m, \u001b[32m3\u001b[39m, \u001b[32m4\u001b[39m, \u001b[32m5\u001b[39m)\n",
       "\u001b[36mres6_4\u001b[39m: \u001b[32mBoolean\u001b[39m = \u001b[32mfalse\u001b[39m\n",
       "\u001b[36mres6_5\u001b[39m: \u001b[32mArray\u001b[39m[\u001b[32mInt\u001b[39m] = \u001b[33mArray\u001b[39m(\u001b[32m2\u001b[39m, \u001b[32m3\u001b[39m, \u001b[32m4\u001b[39m, \u001b[32m5\u001b[39m)\n",
       "\u001b[36mconduplicados\u001b[39m: \u001b[32mArray\u001b[39m[\u001b[32mInt\u001b[39m] = \u001b[33mArray\u001b[39m(\u001b[32m0\u001b[39m, \u001b[32m2\u001b[39m, \u001b[32m3\u001b[39m, \u001b[32m4\u001b[39m, \u001b[32m5\u001b[39m, \u001b[32m2\u001b[39m, \u001b[32m3\u001b[39m, \u001b[32m8\u001b[39m, \u001b[32m9\u001b[39m, \u001b[32m7\u001b[39m)\n",
       "\u001b[36mres6_7\u001b[39m: \u001b[32mArray\u001b[39m[\u001b[32mInt\u001b[39m] = \u001b[33mArray\u001b[39m(\u001b[32m0\u001b[39m, \u001b[32m2\u001b[39m, \u001b[32m3\u001b[39m, \u001b[32m4\u001b[39m, \u001b[32m5\u001b[39m, \u001b[32m8\u001b[39m, \u001b[32m9\u001b[39m, \u001b[32m7\u001b[39m)\n",
       "\u001b[36mres6_8\u001b[39m: \u001b[32mArray\u001b[39m[\u001b[32mInt\u001b[39m] = \u001b[33mArray\u001b[39m(\u001b[32m3\u001b[39m, \u001b[32m5\u001b[39m, \u001b[32m3\u001b[39m, \u001b[32m9\u001b[39m, \u001b[32m7\u001b[39m)"
      ]
     },
     "execution_count": 7,
     "metadata": {},
     "output_type": "execute_result"
    }
   ],
   "source": [
    "// obtener el primero\n",
    "a1.head\n",
    "a1(0)\n",
    "//sustituir un valor en una posición\n",
    "a1(0)=0\n",
    "a1\n",
    "// comprobar si existe algún elemento que cumpla una condición\n",
    "a1.exists(_<0)\n",
    "// eliminar un elemento\n",
    "a1.drop(1)\n",
    "// eliminar duplicados\n",
    "val conduplicados=a1++Array(2,3,8,9,7)\n",
    "conduplicados.distinct\n",
    "// filtrado\n",
    "conduplicados.filterNot(_%2==0)"
   ]
  },
  {
   "cell_type": "markdown",
   "metadata": {},
   "source": [
    "Podemos encontrar muchos más métodos de los arrays en [la doc de Scala](http://www.scala-lang.org/api/2.12.2/scala/Array.html)"
   ]
  },
  {
   "cell_type": "markdown",
   "metadata": {},
   "source": [
    "### Tuplas\n",
    "Son colecciones de tamaño variable que pueden tener elementos de diferentes tipos en su interior. Sus campos se acceden de una forma especial."
   ]
  },
  {
   "cell_type": "markdown",
   "metadata": {},
   "source": [
    "#### Creación de tuplas"
   ]
  },
  {
   "cell_type": "code",
   "execution_count": 8,
   "metadata": {},
   "outputs": [
    {
     "data": {
      "text/plain": [
       "\u001b[36mtupla\u001b[39m: (\u001b[32mString\u001b[39m, \u001b[32mInt\u001b[39m) = (\u001b[32m\"Cristina\"\u001b[39m, \u001b[32m24\u001b[39m)\n",
       "\u001b[36mtupla1\u001b[39m: (\u001b[32mString\u001b[39m, \u001b[32mInt\u001b[39m) = (\u001b[32m\"hola\"\u001b[39m, \u001b[32m3\u001b[39m)\n",
       "\u001b[36mres7_2\u001b[39m: (\u001b[32mInt\u001b[39m, \u001b[32mString\u001b[39m) = (\u001b[32m28\u001b[39m, \u001b[32m\"Febrero\"\u001b[39m)"
      ]
     },
     "execution_count": 8,
     "metadata": {},
     "output_type": "execute_result"
    }
   ],
   "source": [
    "// creación de tupla con 2 elementos sin usar constructor explícitamente\n",
    "var tupla=(\"Cristina\",24) \n",
    "//creación tupla con 2 elementos usando constructor explícitamente\n",
    "var tupla1=Tuple2(\"hola\",3) \n",
    "// creación de tuplas estilo mapas\n",
    "28 -> \"Febrero\""
   ]
  },
  {
   "cell_type": "markdown",
   "metadata": {},
   "source": [
    "#### Acceso de elementos"
   ]
  },
  {
   "cell_type": "code",
   "execution_count": 9,
   "metadata": {},
   "outputs": [
    {
     "data": {
      "text/plain": [
       "\u001b[36mres8_0\u001b[39m: \u001b[32mString\u001b[39m = \u001b[32m\"Cristina\"\u001b[39m\n",
       "\u001b[36mres8_1\u001b[39m: \u001b[32mInt\u001b[39m = \u001b[32m24\u001b[39m\n",
       "\u001b[36mname\u001b[39m: \u001b[32mString\u001b[39m = \u001b[32m\"Cristina\"\u001b[39m\n",
       "\u001b[36mage\u001b[39m: \u001b[32mInt\u001b[39m = \u001b[32m24\u001b[39m\n",
       "\u001b[36mres8_3\u001b[39m: \u001b[32mString\u001b[39m = \u001b[32m\"Cristina\"\u001b[39m\n",
       "\u001b[36mres8_4\u001b[39m: \u001b[32mInt\u001b[39m = \u001b[32m24\u001b[39m"
      ]
     },
     "execution_count": 9,
     "metadata": {},
     "output_type": "execute_result"
    }
   ],
   "source": [
    "//acceso al primer elemento\n",
    "tupla._1\n",
    "//acceso al segundo elemento\n",
    "tupla._2\n",
    "\n",
    "// creacción de variables a partir de la tupla\n",
    "val(name,age)=tupla\n",
    "name\n",
    "age\n"
   ]
  },
  {
   "cell_type": "markdown",
   "metadata": {},
   "source": [
    "#### Métodos de las tuplas"
   ]
  },
  {
   "cell_type": "code",
   "execution_count": 10,
   "metadata": {},
   "outputs": [
    {
     "name": "stdout",
     "output_type": "stream",
     "text": [
      "Cristina\n",
      "24\n"
     ]
    },
    {
     "data": {
      "text/plain": [
       "\u001b[36mres9_0\u001b[39m: \u001b[32mString\u001b[39m = \u001b[32m\"(Cristina,24)\"\u001b[39m"
      ]
     },
     "execution_count": 10,
     "metadata": {},
     "output_type": "execute_result"
    }
   ],
   "source": [
    "// to String\n",
    "tupla.toString()\n",
    "\n",
    "tupla.productIterator.foreach(println)"
   ]
  },
  {
   "cell_type": "markdown",
   "metadata": {},
   "source": [
    "Podemos encontrar todos los métodos implementados para las tuplas en [la doc de Scala](http://www.scala-lang.org/api/2.12.2/scala/Tuple2.html)"
   ]
  },
  {
   "cell_type": "markdown",
   "metadata": {},
   "source": [
    "### Sets\n",
    "Son elementos iterables que no contienen elementos duplicados, y por defecto son inmutables. Tienen varias operaciones definidas de diferente naturaleza (testeo, addiciones, eliminaciones y operaciones típicas de conjuntos como la unión o intersección)."
   ]
  },
  {
   "cell_type": "markdown",
   "metadata": {},
   "source": [
    "#### Creación de conjuntos"
   ]
  },
  {
   "cell_type": "code",
   "execution_count": 11,
   "metadata": {},
   "outputs": [
    {
     "data": {
      "text/plain": [
       "\u001b[36mempty\u001b[39m: \u001b[32mSet\u001b[39m[\u001b[32mNothing\u001b[39m] = Set()\n",
       "\u001b[36mandalucia\u001b[39m: \u001b[32mSet\u001b[39m[\u001b[32mString\u001b[39m] = \u001b[33mSet\u001b[39m(\u001b[32m\"Jaén\"\u001b[39m, \u001b[32m\"Málaga\"\u001b[39m, \u001b[32m\"Sevilla\"\u001b[39m, \u001b[32m\"Huelva\"\u001b[39m, \u001b[32m\"Cádiz\"\u001b[39m, \u001b[32m\"Córdoba\"\u001b[39m, \u001b[32m\"Granada\"\u001b[39m)"
      ]
     },
     "execution_count": 11,
     "metadata": {},
     "output_type": "execute_result"
    }
   ],
   "source": [
    "var empty=Set()\n",
    "var andalucia=Set(\"Málaga\",\"Granada\",\"Córdoba\",\"Huelva\",\"Sevilla\",\"Cádiz\",\"Jaén\")"
   ]
  },
  {
   "cell_type": "markdown",
   "metadata": {},
   "source": [
    "#### Métodos sobre conjuntos"
   ]
  },
  {
   "cell_type": "code",
   "execution_count": 12,
   "metadata": {},
   "outputs": [
    {
     "name": "stdout",
     "output_type": "stream",
     "text": [
      "Set(Almería, Jaén, Málaga, Sevilla, Huelva, Cádiz, Córdoba, Granada)almería\n",
      "jaén\n",
      "málaga\n",
      "sevilla\n",
      "huelva\n",
      "cádiz\n",
      "córdoba\n",
      "granada\n"
     ]
    },
    {
     "data": {
      "text/plain": [
       "\u001b[36mres11_0\u001b[39m: \u001b[32mBoolean\u001b[39m = \u001b[32mfalse\u001b[39m\n",
       "\u001b[36mres11_3\u001b[39m: \u001b[32mInt\u001b[39m = \u001b[32m2\u001b[39m\n",
       "\u001b[36mres11_4\u001b[39m: \u001b[32mSet\u001b[39m[\u001b[32mString\u001b[39m] = \u001b[33mSet\u001b[39m(\u001b[32m\"Almería\"\u001b[39m, \u001b[32m\"Málaga\"\u001b[39m, \u001b[32m\"Sevilla\"\u001b[39m, \u001b[32m\"Huelva\"\u001b[39m, \u001b[32m\"Córdoba\"\u001b[39m, \u001b[32m\"Granada\"\u001b[39m)\n",
       "\u001b[36mres11_6\u001b[39m: \u001b[32mSet\u001b[39m[\u001b[32mString\u001b[39m] = \u001b[33mSet\u001b[39m(\n",
       "  \u001b[32m\"JAÉN\"\u001b[39m,\n",
       "  \u001b[32m\"SEVILLA\"\u001b[39m,\n",
       "  \u001b[32m\"GRANADA\"\u001b[39m,\n",
       "  \u001b[32m\"MÁLAGA\"\u001b[39m,\n",
       "  \u001b[32m\"HUELVA\"\u001b[39m,\n",
       "  \u001b[32m\"CÁDIZ\"\u001b[39m,\n",
       "  \u001b[32m\"CÓRDOBA\"\u001b[39m,\n",
       "  \u001b[32m\"ALMERÍA\"\u001b[39m\n",
       ")\n",
       "\u001b[36mres11_7\u001b[39m: \u001b[32mInt\u001b[39m = \u001b[32m8\u001b[39m\n",
       "\u001b[36mcastillayleon\u001b[39m: \u001b[32mSet\u001b[39m[\u001b[32mString\u001b[39m] = \u001b[33mSet\u001b[39m(\n",
       "  \u001b[32m\"Palencia\"\u001b[39m,\n",
       "  \u001b[32m\"León\"\u001b[39m,\n",
       "  \u001b[32m\"Salamanca\"\u001b[39m,\n",
       "  \u001b[32m\"Burgos\"\u001b[39m,\n",
       "  \u001b[32m\"Segovia\"\u001b[39m,\n",
       "  \u001b[32m\"Ávila\"\u001b[39m,\n",
       "  \u001b[32m\"Zamora\"\u001b[39m,\n",
       "  \u001b[32m\"Valladolid\"\u001b[39m,\n",
       "  \u001b[32m\"Soria\"\u001b[39m\n",
       ")\n",
       "\u001b[36mcastillayleonConAndalucia\u001b[39m: \u001b[32mSet\u001b[39m[\u001b[32mString\u001b[39m] = \u001b[33mSet\u001b[39m(\n",
       "  \u001b[32m\"Almería\"\u001b[39m,\n",
       "  \u001b[32m\"Jaén\"\u001b[39m,\n",
       "  \u001b[32m\"Málaga\"\u001b[39m,\n",
       "  \u001b[32m\"Sevilla\"\u001b[39m,\n",
       "  \u001b[32m\"Palencia\"\u001b[39m,\n",
       "  \u001b[32m\"León\"\u001b[39m,\n",
       "  \u001b[32m\"Salamanca\"\u001b[39m,\n",
       "  \u001b[32m\"Burgos\"\u001b[39m,\n",
       "  \u001b[32m\"Segovia\"\u001b[39m,\n",
       "  \u001b[32m\"Ávila\"\u001b[39m,\n",
       "  \u001b[32m\"Huelva\"\u001b[39m,\n",
       "\u001b[33m...\u001b[39m\n",
       "\u001b[36mres11_10\u001b[39m: \u001b[32mSet\u001b[39m[\u001b[32mInt\u001b[39m] = \u001b[33mSet\u001b[39m(\u001b[32m5\u001b[39m, \u001b[32m3\u001b[39m, \u001b[32m4\u001b[39m)"
      ]
     },
     "execution_count": 12,
     "metadata": {},
     "output_type": "execute_result"
    }
   ],
   "source": [
    "// comprobar si contiene un elemento\n",
    "andalucia(\"Almería\")\n",
    "// añadir un elemento\n",
    "andalucia+=\"Almería\"\n",
    "print(andalucia)\n",
    "// contar cuantas provincias empiezan por \"C\"\n",
    "andalucia.count(_.startsWith(\"C\"))\n",
    "// filtar por las que tienen longitud > 5\n",
    "andalucia.filter(_.length>5)\n",
    "// pasarlas a minúscula (foreach)\n",
    "andalucia.foreach( z => print(z.toLowerCase + \"\\n\"))\n",
    "// pasarlas a mayúscula (Map)\n",
    "andalucia.map(_.toUpperCase)\n",
    "//contar cuantos elementos hay\n",
    "andalucia.size\n",
    "// union de conjuntos\n",
    "var castillayleon=Set(\"Ávila\", \"Burgos\", \"León\", \"Palencia\", \"Salamanca\", \"Segovia\", \"Soria\", \"Valladolid\", \"Zamora\")\n",
    "var castillayleonConAndalucia=andalucia.union(castillayleon)\n",
    "// interseccion\n",
    "Set(1,2,3,4,5).intersect(Set(3,4,5,6,7))"
   ]
  },
  {
   "cell_type": "markdown",
   "metadata": {},
   "source": [
    "Todos los métodos implementados para los Sets se pueden consultar en la [scala doc](http://docs.scala-lang.org/overviews/collections/sets.html)"
   ]
  },
  {
   "cell_type": "markdown",
   "metadata": {},
   "source": [
    "### Mapas\n",
    "Son iterables que consisten pares (key,value). Las operaciones sobre mapas son similares a las de los conjuntos (búsquedas, adicción de elementos, actualizaciones, eliminación de elementos, transformaciones).\n"
   ]
  },
  {
   "cell_type": "markdown",
   "metadata": {},
   "source": [
    "#### Creación de mapas"
   ]
  },
  {
   "cell_type": "code",
   "execution_count": 13,
   "metadata": {},
   "outputs": [
    {
     "data": {
      "text/plain": [
       "\u001b[36mcoches\u001b[39m: \u001b[32mMap\u001b[39m[\u001b[32mInt\u001b[39m, \u001b[32mString\u001b[39m] = \u001b[33mMap\u001b[39m(\u001b[32m2014\u001b[39m -> \u001b[32m\"kolt\"\u001b[39m)\n",
       "\u001b[36mcochesInmut\u001b[39m: \u001b[32mMap\u001b[39m[\u001b[32mInt\u001b[39m, \u001b[32mString\u001b[39m] = \u001b[33mMap\u001b[39m(\u001b[32m1996\u001b[39m -> \u001b[32m\"Frontera\"\u001b[39m, \u001b[32m2010\u001b[39m -> \u001b[32m\"cactus\"\u001b[39m)\n",
       "\u001b[36mtrescoches\u001b[39m: \u001b[32mMap\u001b[39m[\u001b[32mInt\u001b[39m, \u001b[32mString\u001b[39m] = \u001b[33mMap\u001b[39m(\u001b[32m1996\u001b[39m -> \u001b[32m\"Frontera\"\u001b[39m, \u001b[32m2010\u001b[39m -> \u001b[32m\"cactus\"\u001b[39m, \u001b[32m2014\u001b[39m -> \u001b[32m\"kolt\"\u001b[39m)"
      ]
     },
     "execution_count": 13,
     "metadata": {},
     "output_type": "execute_result"
    }
   ],
   "source": [
    "//Creamos un mapa vacío de \n",
    "var coches=Map[Int,String]()\n",
    "val cochesInmut=Map[Int,String](1996->\"Frontera\",2010->\"cactus\")\n",
    "\n",
    "//añadimos nuevo coche\n",
    "coches+=(2014->\"kolt\") //direcamente por ser mutable\n",
    "val trescoches=cochesInmut+(2014->\"kolt\") //nueva variable"
   ]
  },
  {
   "cell_type": "markdown",
   "metadata": {},
   "source": [
    "#### Métodos sobre los mapas"
   ]
  },
  {
   "cell_type": "code",
   "execution_count": 14,
   "metadata": {},
   "outputs": [
    {
     "data": {
      "text/plain": [
       "\u001b[36mres13_0\u001b[39m: \u001b[32mString\u001b[39m = \u001b[32m\"Frontera\"\u001b[39m\n",
       "\u001b[36mres13_1\u001b[39m: \u001b[32mBoolean\u001b[39m = \u001b[32mtrue\u001b[39m\n",
       "\u001b[36mres13_2\u001b[39m: \u001b[32mMap\u001b[39m[\u001b[32mInt\u001b[39m, \u001b[32mString\u001b[39m] = \u001b[33mMap\u001b[39m(\u001b[32m1996\u001b[39m -> \u001b[32m\"Frontera\"\u001b[39m, \u001b[32m2010\u001b[39m -> \u001b[32m\"cactus\"\u001b[39m)\n",
       "\u001b[36mres13_3\u001b[39m: \u001b[32mSet\u001b[39m[\u001b[32mInt\u001b[39m] = \u001b[33mSet\u001b[39m(\u001b[32m1996\u001b[39m, \u001b[32m2010\u001b[39m, \u001b[32m2014\u001b[39m)\n",
       "\u001b[36mres13_4\u001b[39m: \u001b[32mMap\u001b[39m[\u001b[32mInt\u001b[39m, \u001b[32mString\u001b[39m] = \u001b[33mMap\u001b[39m(\u001b[32m1996\u001b[39m -> \u001b[32m\"Frontera\"\u001b[39m)"
      ]
     },
     "execution_count": 14,
     "metadata": {},
     "output_type": "execute_result"
    }
   ],
   "source": [
    "// obtener valor\n",
    "trescoches.getOrElse(1996, \"no existe\")\n",
    "// comprobar si contiene una clave\n",
    "trescoches.contains(2010)\n",
    "//eliminar un valor\n",
    "trescoches-(2014)\n",
    "// obtener todas las claves del mapa\n",
    "trescoches.keySet\n",
    "// filtrar claves que cumplan alguna condición\n",
    "trescoches.filterKeys(_<2000)\n"
   ]
  },
  {
   "cell_type": "markdown",
   "metadata": {},
   "source": [
    "Todos los métodos implementados para los Mapas se pueden consultar en la [scala doc](http://docs.scala-lang.org/overviews/collections/maps.html)"
   ]
  },
  {
   "cell_type": "markdown",
   "metadata": {},
   "source": [
    "### Ejercicio 2:\n",
    "Dados los dos conjuntos anteriores de las comunidades Andalucía y Castilla y León:\n",
    "- 2.1 ¿Cuántas provincias tiene el Set de Andalucía? ¿Cuántas tiene el Set de Castilla y León?\n",
    "- 2.2 ¿Cuántas provincias contienen Castilla y León y Andalucía juntas (calcular el tamaño de la unión de ambas)\n",
    "- 2.3 ¿Cuántas provincias hay entre Castilla y León y Andalucía que empiecen por \"S\"? (Pista: filter+startsWith)\n",
    "- 2.4 ¿Cuál es la provincia con el nombre más largo de entre Castilla y León y Andalucía? (Pista: maxBy)"
   ]
  },
  {
   "cell_type": "code",
   "execution_count": 20,
   "metadata": {},
   "outputs": [
    {
     "data": {
      "text/plain": [
       "\u001b[36mres19_0\u001b[39m: \u001b[32mInt\u001b[39m = \u001b[32m8\u001b[39m\n",
       "\u001b[36mres19_1\u001b[39m: \u001b[32mInt\u001b[39m = \u001b[32m9\u001b[39m\n",
       "\u001b[36mres19_2\u001b[39m: \u001b[32mInt\u001b[39m = \u001b[32m17\u001b[39m\n",
       "\u001b[36mres19_3\u001b[39m: \u001b[32mInt\u001b[39m = \u001b[32m4\u001b[39m\n",
       "\u001b[36mres19_4\u001b[39m: \u001b[32mString\u001b[39m = \u001b[32m\"Valladolid\"\u001b[39m"
      ]
     },
     "execution_count": 20,
     "metadata": {},
     "output_type": "execute_result"
    }
   ],
   "source": [
    "andalucia.size\n",
    "castillayleon.size\n",
    "andalucia.union(castillayleon).size\n",
    "castillayleonConAndalucia.filter(_.startsWith(\"S\")).size\n",
    "castillayleonConAndalucia.maxBy(_.length)"
   ]
  },
  {
   "cell_type": "markdown",
   "metadata": {},
   "source": [
    "## Funciones\n",
    "En Scala las funciones se definen de forma similar a otros lenguajes. El tipo de la función se puede indicar o se puede dejar inferir, aunque indicarlo siempre es una buena práctica. Como ya hemos visto, en Scala se emplean muchas funciones de alto orden y funciones lambda. Como pecurialidad, en Scala podemos especificar parámetros por defecto y repetición de argumentos en las cabeceras de las funciones."
   ]
  },
  {
   "cell_type": "code",
   "execution_count": 21,
   "metadata": {},
   "outputs": [
    {
     "name": "stdout",
     "output_type": "stream",
     "text": [
      "Adiós, Pedro! Espera, desconocido!"
     ]
    },
    {
     "data": {
      "text/plain": [
       "defined \u001b[32mfunction\u001b[39m \u001b[36msuma\u001b[39m\n",
       "\u001b[36mres20_1\u001b[39m: \u001b[32mInt\u001b[39m = \u001b[32m15\u001b[39m\n",
       "defined \u001b[32mfunction\u001b[39m \u001b[36mdiAlgo\u001b[39m\n",
       "defined \u001b[32mfunction\u001b[39m \u001b[36mmayusc\u001b[39m\n",
       "\u001b[36mres20_6\u001b[39m: \u001b[32mSeq\u001b[39m[\u001b[32mString\u001b[39m] = \u001b[33mArrayBuffer\u001b[39m(\u001b[32m\"FRESA\"\u001b[39m, \u001b[32m\"PLÁTANO\"\u001b[39m, \u001b[32m\"PERA\"\u001b[39m, \u001b[32m\"MANZANA\"\u001b[39m)\n",
       "defined \u001b[32mfunction\u001b[39m \u001b[36mcomposicionDoble\u001b[39m\n",
       "\u001b[36mres20_8\u001b[39m: \u001b[32mInt\u001b[39m => \u001b[32mInt\u001b[39m = <function1>"
      ]
     },
     "execution_count": 21,
     "metadata": {},
     "output_type": "execute_result"
    }
   ],
   "source": [
    "// ejemplo de declaración de función simple\n",
    "def suma(a:Int,b:Int)={\n",
    "    a+b\n",
    "}\n",
    "suma(5,10)\n",
    "\n",
    "// especificando parámetros por defecto\n",
    "def diAlgo(alguien: String=\"desconocido\", algo:String=\"hola\"): Unit={\n",
    "  print(algo+\", \"+alguien +\"!\")\n",
    "}\n",
    "diAlgo(\"Pedro\",\"Adiós\")\n",
    "\n",
    "// parámetros desordenados usando el id\n",
    "diAlgo(algo=\" Espera\")\n",
    "\n",
    "// argumentos repetidos\n",
    "def mayusc(strings: String*): Seq[String]={\n",
    "    strings.map((s:String)=>s.toUpperCase)\n",
    "  }\n",
    "mayusc(\"fresa\",\"plátano\",\"pera\",\"manzana\")\n",
    "\n",
    "// funciones de alto orden\n",
    "def composicionDoble(f:Int=>Int)= f compose f\n",
    "composicionDoble(_+3)\n"
   ]
  },
  {
   "cell_type": "markdown",
   "metadata": {},
   "source": [
    "## Pattern matching\n",
    "Es una característica muy usada en Scala que permite indicar una secuencia de patrones y expresiones que serán evaluadas cuando los patrones especificados coincidan. Cada patrón se empieza por la palabra **case** y se usa el símbolo **=>** para separar los patrones de las expresiones."
   ]
  },
  {
   "cell_type": "code",
   "execution_count": 22,
   "metadata": {},
   "outputs": [
    {
     "name": "stdout",
     "output_type": "stream",
     "text": [
      " un entero: 1 un entero: 2 un real: 2.7 un String: none valor desconocido"
     ]
    },
    {
     "data": {
      "text/plain": [
       "defined \u001b[32mfunction\u001b[39m \u001b[36mmatchNum\u001b[39m"
      ]
     },
     "execution_count": 22,
     "metadata": {},
     "output_type": "execute_result"
    }
   ],
   "source": [
    "for {\n",
    "    x<-Seq(1,2,2.7,\"none\",false)\n",
    "}{\n",
    "    val str=x match{\n",
    "        case i:Int => \" un entero: \"+i \n",
    "        case d:Double => \" un real: \"+d\n",
    "        case s:String => \" un String: \"+s\n",
    "        case _ => \" valor desconocido\"\n",
    "    }\n",
    "    print(str)\n",
    "}\n",
    "\n",
    "// oto ejemplo: pattern matching en funciones\n",
    "def matchNum(x: Int): String = x match {\n",
    "      case 1 => \"one\"\n",
    "      case 2 => \"two\"\n",
    "      case 3 => \"three\"\n",
    "      case _ => \"more than three\"\n",
    "   }"
   ]
  },
  {
   "cell_type": "markdown",
   "metadata": {},
   "source": [
    "## Clases\n",
    "Scala es más orientado a objetos que Java, por lo que no podemos crear elementos **static**. En su lugar, ofrece objetos singleton que que pueden crearse a través de la palabra reservada **object** que no podrán instanciarse. Una vez definida la clase, podemos crear objetos de la misma usando la palabra **new**. Las clases también aceptan parámetros desordenados y por defecto."
   ]
  },
  {
   "cell_type": "code",
   "execution_count": 23,
   "metadata": {},
   "outputs": [
    {
     "name": "stdout",
     "output_type": "stream",
     "text": [
      "Cristina 25"
     ]
    },
    {
     "data": {
      "text/plain": [
       "defined \u001b[32mclass\u001b[39m \u001b[36mPerson\u001b[39m\n",
       "\u001b[36mme\u001b[39m: \u001b[32mPerson\u001b[39m = $sess.cmd22Wrapper$Helper$Person@455ac9c4"
      ]
     },
     "execution_count": 23,
     "metadata": {},
     "output_type": "execute_result"
    }
   ],
   "source": [
    "// creando una clase básica estilo Java\n",
    "class Person(ag:Int, nam:String){\n",
    "  private var _age:Int=ag //invisible fields\n",
    "  private var _name:String=nam\n",
    "\n",
    "  def age:Int=_age //getters\n",
    "  def name=_name\n",
    "\n",
    "  def age_=(newage:Int) = _age=newage\n",
    "  def name_=(newname:String) = _name=newname\n",
    "}\n",
    "val me=new Person(24,\"Cristina\")\n",
    "me.age=25\n",
    "print(me.name + \" \"+me.age)"
   ]
  },
  {
   "cell_type": "code",
   "execution_count": 24,
   "metadata": {},
   "outputs": [
    {
     "name": "stdout",
     "output_type": "stream",
     "text": [
      "Cristina 25"
     ]
    },
    {
     "data": {
      "text/plain": [
       "defined \u001b[32mclass\u001b[39m \u001b[36mPerson\u001b[39m\n",
       "\u001b[36mme\u001b[39m: \u001b[32mwrapper\u001b[39m.\u001b[32mwrapper\u001b[39m.\u001b[32mPerson\u001b[39m = $sess.cmd23Wrapper$Helper$Person@27942a08"
      ]
     },
     "execution_count": 24,
     "metadata": {},
     "output_type": "execute_result"
    }
   ],
   "source": [
    "// crear clase en Scala sin especicicar getters ni setters\n",
    "class Person(var ag:Int, var nam:String)\n",
    "\n",
    "// mostrar /modificar valores\n",
    "val me=new Person(24,\"Cristina\")\n",
    "me.ag=25\n",
    "print(me.nam+\" \"+me.ag)"
   ]
  },
  {
   "cell_type": "code",
   "execution_count": 25,
   "metadata": {},
   "outputs": [
    {
     "name": "stdout",
     "output_type": "stream",
     "text": [
      "15 Lola\n"
     ]
    },
    {
     "data": {
      "text/plain": [
       "defined \u001b[32mclass\u001b[39m \u001b[36mPersonDefault\u001b[39m\n",
       "\u001b[36mmedefault\u001b[39m: \u001b[32mPersonDefault\u001b[39m = $sess.cmd24Wrapper$Helper$PersonDefault@2e91f6cb"
      ]
     },
     "execution_count": 25,
     "metadata": {},
     "output_type": "execute_result"
    }
   ],
   "source": [
    "// parámetros por defecto \n",
    "class PersonDefault(var ag:Int=15, val nam:String=\"Unamed\")\n",
    "// parámetros desordenados\n",
    "var medefault=new PersonDefault(nam=\"Lola\")\n",
    "println(medefault.ag + \" \"+ medefault.nam)"
   ]
  },
  {
   "cell_type": "markdown",
   "metadata": {},
   "source": [
    "### Clases case"
   ]
  },
  {
   "cell_type": "markdown",
   "metadata": {},
   "source": [
    "Las **clases case** tienen un constructor primario, los parámetros definidos en la clase son públicos e inmutables, pueden consultarse mediante la notación usual de punto (`miclase.attr`). Este tipo de clases son muy útiles para modelar datos inmutables."
   ]
  },
  {
   "cell_type": "code",
   "execution_count": 26,
   "metadata": {},
   "outputs": [
    {
     "data": {
      "text/plain": [
       "defined \u001b[32mclass\u001b[39m \u001b[36mPerson\u001b[39m\n",
       "\u001b[36mcristina\u001b[39m: \u001b[32mwrapper\u001b[39m.\u001b[32mwrapper\u001b[39m.\u001b[32mPerson\u001b[39m = \u001b[33mPerson\u001b[39m(\u001b[32m25\u001b[39m, \u001b[32m\"Cris\"\u001b[39m)\n",
       "\u001b[36mres25_2\u001b[39m: \u001b[32mInt\u001b[39m = \u001b[32m25\u001b[39m"
      ]
     },
     "execution_count": 26,
     "metadata": {},
     "output_type": "execute_result"
    }
   ],
   "source": [
    "case class Person(ag: Int, nam: String)\n",
    "// Definir un objeto nuevo, nota que no es neceario usar new.\n",
    "val cristina = Person(25, \"Cris\")\n",
    "// El acceso a los atributos es público\n",
    "cristina.ag"
   ]
  },
  {
   "cell_type": "markdown",
   "metadata": {},
   "source": [
    "Una de las ventajas de usar __case classes__ es su uso junto a __pattern matching__."
   ]
  },
  {
   "cell_type": "code",
   "execution_count": 27,
   "metadata": {},
   "outputs": [
    {
     "name": "stdout",
     "output_type": "stream",
     "text": [
      "4.0\n"
     ]
    },
    {
     "data": {
      "text/plain": [
       "defined \u001b[32mclass\u001b[39m \u001b[36mShape\u001b[39m\n",
       "defined \u001b[32mclass\u001b[39m \u001b[36mCircle\u001b[39m\n",
       "defined \u001b[32mclass\u001b[39m \u001b[36mSquare\u001b[39m\n",
       "defined \u001b[32mclass\u001b[39m \u001b[36mTriangle\u001b[39m\n",
       "defined \u001b[32mfunction\u001b[39m \u001b[36marea\u001b[39m\n",
       "\u001b[36mcircle\u001b[39m: \u001b[32mCircle\u001b[39m = \u001b[33mCircle\u001b[39m(\u001b[32m3.0\u001b[39m)\n",
       "\u001b[36msquare\u001b[39m: \u001b[32mSquare\u001b[39m = \u001b[33mSquare\u001b[39m(\u001b[32m2.0\u001b[39m)\n",
       "\u001b[36mtriangle\u001b[39m: \u001b[32mTriangle\u001b[39m = \u001b[33mTriangle\u001b[39m(\u001b[32m2.0\u001b[39m, \u001b[32m3.0\u001b[39m)"
      ]
     },
     "execution_count": 27,
     "metadata": {},
     "output_type": "execute_result"
    }
   ],
   "source": [
    "abstract class Shape\n",
    "case class Circle(radius: Double) extends Shape\n",
    "case class Square(side: Double) extends Shape\n",
    "case class Triangle(base: Double, height: Double) extends Shape\n",
    "\n",
    "def area(a:Shape)=a match{\n",
    "  case Circle(r)=>3.14*r*r\n",
    "  case Square(s)=>s*s\n",
    "  case Triangle(b,h)=>(b*h)/2\n",
    "  case _=> throw sys error(\"not expected shape\")\n",
    "}\n",
    "\n",
    "val circle=Circle(3)\n",
    "val square=Square(2)\n",
    "val triangle=Triangle(2,3)\n",
    "\n",
    "println(area(square))"
   ]
  },
  {
   "cell_type": "markdown",
   "metadata": {},
   "source": [
    "### Ejercicio 3:\n",
    "Dada la siguiente implementación del objeto Lista de abajo:\n",
    "- 3.1 implementar el método que suma todos los elementos de la lista con pattern matching\n",
    "- 3.2 implementar el método que multiplica todos los elementos de la lista con pattern matching\n",
    "- 3.3 implementar el método que agrega dos listas en una con pattern matching"
   ]
  },
  {
   "cell_type": "code",
   "execution_count": 1,
   "metadata": {},
   "outputs": [
    {
     "ename": "",
     "evalue": "",
     "output_type": "error",
     "traceback": [
      "SyntaxError: found \"case Cons(x,xs) //\\n \", expected \"|\" | `=>` | `⇒` at index 219",
      "    case Cons(x,xs) //",
      "    ^"
     ]
    }
   ],
   "source": [
    "trait List[+A] \n",
    "case object Nil extends List[Nothing]\n",
    "case class Cons[+A](head: A, tail: List[A]) extends List[A]\n",
    "\n",
    "object List { \n",
    "    // por definir\n",
    "     def sum(ints: List[Int]): Int = ints match {\n",
    "    case Nil => 0\n",
    "    case Cons(x,xs) => x+sum(xs)\n",
    "     }\n",
    "    // por definir\n",
    "    def product(ds: List[Double]): Double = ds match {\n",
    "        case Nil =>1\n",
    "        case Cons(0.0,_)=>0.0\n",
    "        case Cons(x,y)=>x*product(y)\n",
    "    }\n",
    "    // por definir\n",
    "    def append[A](a1: List[A], a2: List[A]): List[A] = a1 match {\n",
    "        case Nil => a2\n",
    "        case Cons(x,xs) => Cons(x,append(xs,a2))\n",
    "    }\n",
    "}"
   ]
  },
  {
   "cell_type": "markdown",
   "metadata": {},
   "source": [
    "## Traits\n",
    "Encapsula métodos y definiciones de variables. A diferencia de la herencia de clases, en las que cada clase puede solo heredar de una superclase, una clase puede mezclarse con múltiples traits. La definición de un trait se hace de forma similar a la de clase con la palabra reservada **trait**, y no tendrán parámetros en el constructor aunque pueden ser parcialmente implementados. "
   ]
  },
  {
   "cell_type": "code",
   "execution_count": 28,
   "metadata": {},
   "outputs": [
    {
     "name": "stdout",
     "output_type": "stream",
     "text": [
      "miaurr\n",
      "meh, dont really care\n",
      "following you until you feed me\n",
      "tail is wagging\n"
     ]
    },
    {
     "data": {
      "text/plain": [
       "defined \u001b[32mtrait\u001b[39m \u001b[36mTail\u001b[39m\n",
       "defined \u001b[32mclass\u001b[39m \u001b[36mPet\u001b[39m\n",
       "defined \u001b[32mclass\u001b[39m \u001b[36mCat\u001b[39m\n",
       "defined \u001b[32mclass\u001b[39m \u001b[36mDog\u001b[39m\n",
       "\u001b[36mdandy\u001b[39m: \u001b[32mCat\u001b[39m = $sess.cmd27Wrapper$Helper$Cat@32fe26a9"
      ]
     },
     "execution_count": 28,
     "metadata": {},
     "output_type": "execute_result"
    }
   ],
   "source": [
    "// ejemplo de uso de Traits\n",
    "trait Tail {\n",
    "  def wagTail { println(\"tail is wagging\") }\n",
    "}\n",
    "\n",
    "abstract class Pet (var name: String) {\n",
    "  def emitPetSounds  // abstract\n",
    "  def ownerIsHome //abstract\n",
    "  def askForFood= println(\"following you until you feed me\")\n",
    "}\n",
    "\n",
    "class Cat(name: String) extends Pet (name) with Tail {\n",
    "  def emitPetSounds { println(\"miaurr\") }\n",
    "  def ownerIsHome: Unit = println(\"meh, dont really care\")\n",
    "}\n",
    "\n",
    "class Dog(name: String) extends Pet (name) with Tail {\n",
    "  def emitPetSounds { println(\"wooff! woff!\") }\n",
    "  def ownerIsHome: Unit = println(\"Im so excited!\")\n",
    "}\n",
    "\n",
    "val dandy=new Cat(\"Dandy\")\n",
    "dandy.emitPetSounds\n",
    "dandy.ownerIsHome\n",
    "dandy.askForFood\n",
    "dandy.wagTail\n"
   ]
  },
  {
   "cell_type": "markdown",
   "metadata": {},
   "source": [
    "## Programación funcional\n",
    "Scala tiene un paradigma mixto. Por un lado, soporta POO y por otro soporta programación funcional. A diferencia de la POO la FP se basa en la evaluación de funciones matemáticas y evita los cambios de estado de las variables. Es un tipo de programación donde se programa a través de expresiones en lugar de a través de sentencias o procedimientos como en POO. Algunas de las funciones de FP más comunes son: map, filter, find, flatMap, reduce, fold, aggregate, exist o forall. Veamos ejemplos de su uso para entenderlas mejor.\n"
   ]
  },
  {
   "cell_type": "code",
   "execution_count": 29,
   "metadata": {},
   "outputs": [
    {
     "data": {
      "text/plain": [
       "\u001b[36mnumberlist\u001b[39m: \u001b[32mList\u001b[39m[\u001b[32mInt\u001b[39m] = \u001b[33mList\u001b[39m(\u001b[32m1\u001b[39m, \u001b[32m2\u001b[39m, \u001b[32m3\u001b[39m, \u001b[32m4\u001b[39m, \u001b[32m5\u001b[39m, \u001b[32m6\u001b[39m, \u001b[32m7\u001b[39m, \u001b[32m8\u001b[39m, \u001b[32m9\u001b[39m, \u001b[32m10\u001b[39m)\n",
       "\u001b[36mres28_1\u001b[39m: \u001b[32mList\u001b[39m[\u001b[32mInt\u001b[39m] = \u001b[33mList\u001b[39m(\u001b[32m1\u001b[39m, \u001b[32m4\u001b[39m, \u001b[32m9\u001b[39m, \u001b[32m16\u001b[39m, \u001b[32m25\u001b[39m, \u001b[32m36\u001b[39m, \u001b[32m49\u001b[39m, \u001b[32m64\u001b[39m, \u001b[32m81\u001b[39m, \u001b[32m100\u001b[39m)\n",
       "\u001b[36mres28_2\u001b[39m: \u001b[32mList\u001b[39m[\u001b[32mInt\u001b[39m] = \u001b[33mList\u001b[39m(\u001b[32m6\u001b[39m, \u001b[32m7\u001b[39m, \u001b[32m8\u001b[39m, \u001b[32m9\u001b[39m, \u001b[32m10\u001b[39m)\n",
       "\u001b[36mres28_3\u001b[39m: \u001b[32mOption\u001b[39m[\u001b[32mInt\u001b[39m] = \u001b[33mSome\u001b[39m(\u001b[32m5\u001b[39m)\n",
       "\u001b[36mres28_4\u001b[39m: \u001b[32mList\u001b[39m[\u001b[32mInt\u001b[39m] = \u001b[33mList\u001b[39m(\u001b[32m1\u001b[39m, \u001b[32m0\u001b[39m, \u001b[32m2\u001b[39m, \u001b[32m0\u001b[39m, \u001b[32m3\u001b[39m, \u001b[32m0\u001b[39m, \u001b[32m4\u001b[39m, \u001b[32m0\u001b[39m, \u001b[32m5\u001b[39m, \u001b[32m0\u001b[39m, \u001b[32m6\u001b[39m, \u001b[32m0\u001b[39m, \u001b[32m7\u001b[39m, \u001b[32m0\u001b[39m, \u001b[32m8\u001b[39m, \u001b[32m0\u001b[39m, \u001b[32m9\u001b[39m, \u001b[32m0\u001b[39m, \u001b[32m10\u001b[39m, \u001b[32m0\u001b[39m)\n",
       "\u001b[36mres28_5\u001b[39m: \u001b[32mInt\u001b[39m = \u001b[32m55\u001b[39m\n",
       "\u001b[36mres28_6\u001b[39m: \u001b[32mInt\u001b[39m = \u001b[32m55\u001b[39m\n",
       "\u001b[36mres28_7\u001b[39m: \u001b[32mInt\u001b[39m = \u001b[32m55\u001b[39m\n",
       "\u001b[36mres28_8\u001b[39m: \u001b[32mInt\u001b[39m = \u001b[32m55\u001b[39m\n",
       "\u001b[36mres28_9\u001b[39m: \u001b[32mBoolean\u001b[39m = \u001b[32mtrue\u001b[39m\n",
       "\u001b[36mres28_10\u001b[39m: \u001b[32mBoolean\u001b[39m = \u001b[32mfalse\u001b[39m"
      ]
     },
     "execution_count": 29,
     "metadata": {},
     "output_type": "execute_result"
    }
   ],
   "source": [
    "val numberlist=List(1,2,3,4,5,6,7,8,9,10)\n",
    "//map\n",
    "numberlist.map(a=>a*a)\n",
    "//filter(p: (A) ⇒ Boolean)\n",
    "numberlist.filter(_>5)\n",
    "//find(p: (A) ⇒ Boolean)\n",
    "numberlist.find(_>4)\n",
    "//flatMap[B](f: (A) ⇒ GenTraversableOnce[B]): List[B]\n",
    "numberlist.flatMap(a=>Set(a,0))\n",
    "//reduce[A1 >: A](op: (A1, A1) ⇒ A1)\n",
    "numberlist.reduce(_+_)\n",
    "//fold[A1 >: A](z: A1)(op: (A1, A1) ⇒ A1)\n",
    "numberlist.fold(0)((x,y)=>x+y)\n",
    "//foldLeft[B](z: B)(op: (B, A) ⇒ B): B \n",
    "numberlist.foldLeft(0)((x,y)=>x+y)\n",
    "//aggregate[B](z: ⇒ B)(seqop: (B, A) ⇒ B, combop: (B, B) ⇒ B)\n",
    "numberlist.aggregate(0)((x,y)=>x+y,(x,y)=>x+y)\n",
    "//exists(p: (A) ⇒ Boolean)\n",
    "numberlist.exists(_%2==0)\n",
    "//forall(p: (A) ⇒ Boolean)\n",
    "numberlist.forall(a=>a%2==0)\n"
   ]
  },
  {
   "cell_type": "markdown",
   "metadata": {},
   "source": [
    "### Ejercicio 4: \n",
    "Dada una lista de tuplas: `val tuplesList=List((1,2),(3,4),(5,6),(7,8))` calcula:\n",
    "- 3.1 cual tiene mayor valor de x1  (Pista: MaxBy )\n",
    "- 3.2 cual tiene mayor valor de x1+x2 (Pista : Map + zipWithIndex)\n",
    "- 3.3 ordénalas en orden decreciente en función de x1  (Pista: SortBy)\n",
    "- 3.4 la suma de todas las tuplas (t1(x1)+t2(x1)...,t1(x2)+t2(x2)...) (Pista: foldLeft)\n",
    "- 3.5 cual es el valor máximo entre x1 y x2 de entre todas las tuplas (Pista: flatMap)\n",
    "- 3.5 la resta de las tuplas de dos en dos y suma el resultado (Pista: aggregate)\n"
   ]
  },
  {
   "cell_type": "code",
   "execution_count": 35,
   "metadata": {},
   "outputs": [
    {
     "data": {
      "text/plain": [
       "\u001b[36mtuplesList\u001b[39m: \u001b[32mList\u001b[39m[(\u001b[32mInt\u001b[39m, \u001b[32mInt\u001b[39m)] = \u001b[33mList\u001b[39m((\u001b[32m1\u001b[39m, \u001b[32m2\u001b[39m), (\u001b[32m3\u001b[39m, \u001b[32m4\u001b[39m), (\u001b[32m5\u001b[39m, \u001b[32m6\u001b[39m), (\u001b[32m7\u001b[39m, \u001b[32m8\u001b[39m))\n",
       "\u001b[36mres34_1\u001b[39m: (\u001b[32mInt\u001b[39m, \u001b[32mInt\u001b[39m) = (\u001b[32m15\u001b[39m, \u001b[32m3\u001b[39m)\n",
       "\u001b[36mres34_2\u001b[39m: \u001b[32mList\u001b[39m[(\u001b[32mInt\u001b[39m, \u001b[32mInt\u001b[39m)] = \u001b[33mList\u001b[39m((\u001b[32m7\u001b[39m, \u001b[32m8\u001b[39m), (\u001b[32m5\u001b[39m, \u001b[32m6\u001b[39m), (\u001b[32m3\u001b[39m, \u001b[32m4\u001b[39m), (\u001b[32m1\u001b[39m, \u001b[32m2\u001b[39m))\n",
       "\u001b[36mres34_3\u001b[39m: (\u001b[32mInt\u001b[39m, \u001b[32mInt\u001b[39m) = (\u001b[32m16\u001b[39m, \u001b[32m20\u001b[39m)\n",
       "\u001b[36mres34_4\u001b[39m: (\u001b[32mInt\u001b[39m, \u001b[32mInt\u001b[39m) = (\u001b[32m16\u001b[39m, \u001b[32m20\u001b[39m)\n",
       "\u001b[36mres34_5\u001b[39m: \u001b[32mInt\u001b[39m = \u001b[32m8\u001b[39m\n",
       "\u001b[36mres34_6\u001b[39m: \u001b[32mList\u001b[39m[\u001b[32mInt\u001b[39m] = \u001b[33mList\u001b[39m(\u001b[32m1\u001b[39m, \u001b[32m2\u001b[39m, \u001b[32m3\u001b[39m, \u001b[32m4\u001b[39m, \u001b[32m5\u001b[39m, \u001b[32m6\u001b[39m, \u001b[32m7\u001b[39m, \u001b[32m8\u001b[39m)\n",
       "\u001b[36mres34_7\u001b[39m: (\u001b[32mInt\u001b[39m, \u001b[32mInt\u001b[39m) = (\u001b[32m-16\u001b[39m, \u001b[32m-20\u001b[39m)\n",
       "\u001b[36mres34_8\u001b[39m: (\u001b[32mInt\u001b[39m, \u001b[32mInt\u001b[39m) = (\u001b[32m-16\u001b[39m, \u001b[32m-20\u001b[39m)"
      ]
     },
     "execution_count": 35,
     "metadata": {},
     "output_type": "execute_result"
    }
   ],
   "source": [
    "val tuplesList=List((1,2),(3,4),(5,6),(7,8))\n",
    "tuplesList.map(x=>x._1+x._2).zipWithIndex.maxBy(_._1)\n",
    "tuplesList.sortBy(_._1).reverse\n",
    "//(tuplesList.map(_._1).sum,tuplesList.map(_._2).sum)\n",
    "tuplesList.foldLeft((0,0)){ case ((x1,y1),(x2,y2)) => (x1+x2,y1+y2)}\n",
    "tuplesList.foldLeft((0,0))((x,y)=>(x._1+y._1,x._2+y._2))\n",
    "tuplesList.flatten({case (a,b) =>List(a,b)}).max\n",
    "tuplesList.flatMap(l=>List(l._1,l._2))\n",
    "//tuplesList.aggregate(0)(((x1,y1),(x2,y2)) => (x1-x2,y1-y2),((x1,y1),(x2,y2)) => (x1+x2,y1+y2))\n",
    "tuplesList.aggregate((0,0))((x,y)=>(x._1-y._1, x._2-y._2),(x,y)=>(x._1+y._1, x._2+y._2))\n",
    "tuplesList.aggregate((0,0))((x,y)=>(x._1-y._1, x._2-y._2), (x,y)=>(x._1+y._1,x._2+y._2))"
   ]
  }
 ],
 "metadata": {
  "kernelspec": {
   "display_name": "Scala",
   "language": "scala",
   "name": "scala"
  },
  "language_info": {
   "codemirror_mode": "text/x-scala",
   "file_extension": ".scala",
   "mimetype": "text/x-scala",
   "name": "scala211",
   "nbconvert_exporter": "script",
   "pygments_lexer": "scala",
   "version": "2.11.11"
  }
 },
 "nbformat": 4,
 "nbformat_minor": 2
}
